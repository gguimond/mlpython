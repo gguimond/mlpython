{
 "cells": [
  {
   "cell_type": "markdown",
   "metadata": {},
   "source": [
    "# Machine learning intro"
   ]
  },
  {
   "cell_type": "markdown",
   "metadata": {},
   "source": [
    "## sources\n",
    "https://github.com/machinelearningmindset/machine-learning-course\n",
    "https://medium.com/explore-artificial-intelligence/an-introduction-to-recurrent-neural-networks-72c97bf0912\n",
    "https://www.analyticsvidhya.com/blog/2019/04/introduction-deep-q-learning-python/\n",
    "https://keon.io/deep-q-learning/\n",
    "https://learndatasci.com/tutorials/reinforcement-q-learning-scratch-python-openai-gym/\n",
    "https://tiewkh.github.io/blog/deepqlearning-openaitaxi/\n",
    "https://www.alexirpan.com/2018/02/14/rl-hard.html\n",
    "https://towardsdatascience.com/real-world-examples-of-applied-machine-learning-from-ai-conference-4d4678700c6"
   ]
  },
  {
   "cell_type": "markdown",
   "metadata": {},
   "source": [
    "All machine learning is AI, but not all AI is machine learning.\n",
    "\n",
    "**Supervised learning** : Machine learning, deep learning\n",
    "**Unsupervised learning** : reinforcement learning\n",
    "\n",
    "**Deep learning** is a subset of machine learning (deep artificial neural networks)\n",
    "\n",
    "**Classification** is about predicting a label and **regression** is about predicting a quantity.\n",
    "\n",
    "**Training set** to train our model and a **testing set** to test its accuracy\n"
   ]
  },
  {
   "cell_type": "raw",
   "metadata": {},
   "source": [
    "a) linear : ax+b=0\n",
    "\n",
    "b)quadratic : ax^2+bx+c =0 and last but not the least\n",
    "\n",
    "c)polynomial : (ax+b) ^n\n",
    "\n",
    "y = a0 + a1x\n",
    "\n",
    "a₀ and a₁ describe the shape of our line. a₀ is called the bias and a₁ is called a weight.\n"
   ]
  },
  {
   "cell_type": "markdown",
   "metadata": {},
   "source": [
    "## Linear regression\n",
    "is a technique used to analyze a linear relationship between input variables and a single output variable. A linear relationship means that the data points tend to follow a straight line. \n",
    "Simple linear regression involves only a single input variable. (we could have more than one input variable, multiple linear regression)\n",
    "\n",
    "=> Cost Function, error and squared error, Mean Squared Error (MSE)\n",
    "=> minimizing the cost function : Ordinary Least Squares, Gradient descent\n"
   ]
  },
  {
   "cell_type": "markdown",
   "metadata": {},
   "source": [
    "![title](img/image.png)"
   ]
  },
  {
   "cell_type": "markdown",
   "metadata": {},
   "source": [
    "## Overfitting / Underfitting \n",
    "\n",
    "Regularization : pattern vs noise \n",
    "cost func = CF + λ * R\n",
    "Ridge regression/ Lasso regression\n"
   ]
  },
  {
   "cell_type": "markdown",
   "metadata": {},
   "source": [
    "![title](img/image2.png)"
   ]
  },
  {
   "cell_type": "markdown",
   "metadata": {},
   "source": [
    "## Cross-validation\n",
    "assures a model is producing accurate results and comparing those results against other models\n",
    "\n",
    "Holdout Method\n",
    "K-Fold Cross Validation\n",
    "Leave-P-Out Cross Validation\n"
   ]
  },
  {
   "cell_type": "markdown",
   "metadata": {},
   "source": [
    "![title](img/image3.png)"
   ]
  },
  {
   "cell_type": "markdown",
   "metadata": {},
   "source": [
    "## Dev\n",
    "\n",
    "Python\n",
    "\n",
    "SciKit Learn : general machine learning library, built on top of NumPy\n",
    "\n",
    "TensorFlow : library for array data calculations and computations that can be used to conduct neural network and deep learning\n",
    "\n",
    "Keras : high-level framework on top of TensorFlow\n",
    "\n",
    "PyTorch\n"
   ]
  },
  {
   "cell_type": "code",
   "execution_count": 16,
   "metadata": {},
   "outputs": [
    {
     "name": "stdout",
     "output_type": "stream",
     "text": [
      "Requirement already satisfied: seaborn in c:\\users\\qbnl4836\\appdata\\local\\programs\\python\\python37\\lib\\site-packages (0.9.0)\n",
      "Requirement already satisfied: matplotlib>=1.4.3 in c:\\users\\qbnl4836\\appdata\\local\\programs\\python\\python37\\lib\\site-packages (from seaborn) (3.1.0)\n",
      "Requirement already satisfied: pandas>=0.15.2 in c:\\users\\qbnl4836\\appdata\\local\\programs\\python\\python37\\lib\\site-packages (from seaborn) (0.24.2)\n",
      "Requirement already satisfied: numpy>=1.9.3 in c:\\users\\qbnl4836\\appdata\\local\\programs\\python\\python37\\lib\\site-packages (from seaborn) (1.16.4)\n",
      "Requirement already satisfied: scipy>=0.14.0 in c:\\users\\qbnl4836\\appdata\\local\\programs\\python\\python37\\lib\\site-packages (from seaborn) (1.3.0)\n",
      "Requirement already satisfied: pyparsing!=2.0.4,!=2.1.2,!=2.1.6,>=2.0.1 in c:\\users\\qbnl4836\\appdata\\local\\programs\\python\\python37\\lib\\site-packages (from matplotlib>=1.4.3->seaborn) (2.4.0)\n",
      "Requirement already satisfied: kiwisolver>=1.0.1 in c:\\users\\qbnl4836\\appdata\\local\\programs\\python\\python37\\lib\\site-packages (from matplotlib>=1.4.3->seaborn) (1.1.0)\n",
      "Requirement already satisfied: python-dateutil>=2.1 in c:\\users\\qbnl4836\\appdata\\local\\programs\\python\\python37\\lib\\site-packages (from matplotlib>=1.4.3->seaborn) (2.8.0)\n",
      "Requirement already satisfied: cycler>=0.10 in c:\\users\\qbnl4836\\appdata\\local\\programs\\python\\python37\\lib\\site-packages (from matplotlib>=1.4.3->seaborn) (0.10.0)\n",
      "Requirement already satisfied: pytz>=2011k in c:\\users\\qbnl4836\\appdata\\local\\programs\\python\\python37\\lib\\site-packages (from pandas>=0.15.2->seaborn) (2019.1)\n",
      "Requirement already satisfied: setuptools in c:\\users\\qbnl4836\\appdata\\local\\programs\\python\\python37\\lib\\site-packages (from kiwisolver>=1.0.1->matplotlib>=1.4.3->seaborn) (40.8.0)\n",
      "Requirement already satisfied: six>=1.5 in c:\\users\\qbnl4836\\appdata\\local\\programs\\python\\python37\\lib\\site-packages (from python-dateutil>=2.1->matplotlib>=1.4.3->seaborn) (1.12.0)\n"
     ]
    },
    {
     "name": "stderr",
     "output_type": "stream",
     "text": [
      "You are using pip version 19.0.3, however version 19.1.1 is available.\n",
      "You should consider upgrading via the 'python -m pip install --upgrade pip' command.\n"
     ]
    },
    {
     "name": "stdout",
     "output_type": "stream",
     "text": [
      "Requirement already satisfied: sklearn in c:\\users\\qbnl4836\\appdata\\local\\programs\\python\\python37\\lib\\site-packages (0.0)\n",
      "Requirement already satisfied: scikit-learn in c:\\users\\qbnl4836\\appdata\\local\\programs\\python\\python37\\lib\\site-packages (from sklearn) (0.21.2)\n",
      "Requirement already satisfied: numpy>=1.11.0 in c:\\users\\qbnl4836\\appdata\\local\\programs\\python\\python37\\lib\\site-packages (from scikit-learn->sklearn) (1.16.4)\n",
      "Requirement already satisfied: joblib>=0.11 in c:\\users\\qbnl4836\\appdata\\local\\programs\\python\\python37\\lib\\site-packages (from scikit-learn->sklearn) (0.13.2)\n",
      "Requirement already satisfied: scipy>=0.17.0 in c:\\users\\qbnl4836\\appdata\\local\\programs\\python\\python37\\lib\\site-packages (from scikit-learn->sklearn) (1.3.0)\n"
     ]
    },
    {
     "name": "stderr",
     "output_type": "stream",
     "text": [
      "You are using pip version 19.0.3, however version 19.1.1 is available.\n",
      "You should consider upgrading via the 'python -m pip install --upgrade pip' command.\n"
     ]
    },
    {
     "data": {
      "image/png": "[encoded data removed]",
      "text/plain": [
       "<Figure size 432x288 with 1 Axes>"
      ]
     },
     "metadata": {},
     "output_type": "display_data"
    }
   ],
   "source": [
    "!py -m pip install seaborn\n",
    "!py -m pip install sklearn\n",
    "\n",
    "import matplotlib.pyplot as plt\n",
    "import seaborn as sns\n",
    "from sklearn import datasets, linear_model\n",
    "from sklearn.datasets import make_regression\n",
    "from sklearn.model_selection import train_test_split\n",
    "\n",
    "# Create a data set for analysis\n",
    "x, y = make_regression(n_samples=500, n_features = 1, noise=25, random_state=0)\n",
    "\n",
    "# Split the data set into testing and training data\n",
    "x_train, x_test, y_train, y_test = train_test_split(x, y, random_state=0)\n",
    "\n",
    "# Create a linear regression object\n",
    "#regression = linear_model.LinearRegression()\n",
    "regression = linear_model.SGDRegressor(max_iter=10000, tol=0.001)\n",
    "\n",
    "# Train the model using the training set\n",
    "regression.fit(x_train, y_train)\n",
    "\n",
    "# Make predictions using the testing set\n",
    "y_predictions = regression.predict(x_test)\n",
    "\n",
    "# Grab a sample pair of points to analyze cost\n",
    "point_number = 2\n",
    "x_sample = [x_test[point_number].item(), x_test[point_number].item()]\n",
    "y_sample = [y_test[point_number].item(), y_predictions[point_number].item()]\n",
    "plt.plot(x_sample, y_sample, color='red', label=\"cost\", marker='o')\n",
    "\n",
    "# Plot the data\n",
    "sns.set_style(\"darkgrid\")\n",
    "sns.regplot(x_test, y_test, fit_reg=False)\n",
    "plt.plot(x_test, y_predictions, color='black')\n",
    "\n",
    "# Remove ticks from the plot\n",
    "plt.xticks([])\n",
    "plt.yticks([])\n",
    "\n",
    "plt.tight_layout()\n",
    "plt.show()"
   ]
  },
  {
   "cell_type": "markdown",
   "metadata": {},
   "source": [
    "## Supervised learning\n"
   ]
  },
  {
   "cell_type": "markdown",
   "metadata": {},
   "source": [
    "### Decision Trees\n",
    "Decision trees are a classifier in machine learning that allows us to make predictions based on previous data. They are like a series of sequential “if … then” statements you feed new data into to get a result.\n",
    "\n",
    "A Classification Tree, is used to get a result from a set of possible values. A Regression Tree is a decision tree where the result is a continuous value, such as the price of a car.\n",
    "\n",
    "![title](img/image4.png)\n",
    "![title](img/image5.png)"
   ]
  },
  {
   "cell_type": "markdown",
   "metadata": {},
   "source": [
    "Cost of Splitting : cost function, Gini Information Gain\n",
    "Pruning :  it's beneficial to prune less important splits of a decision tree away. Pruning involves calculating the information gain of each ending sub-tree (the leaf nodes and their parent node), then removing the sub-tree with the least information gain\n"
   ]
  },
  {
   "cell_type": "raw",
   "metadata": {},
   "source": [
    "One hot encoder : \n",
    "\n",
    "╔════════════╦═════════════════╦════════╗ \n",
    "║ CompanyName Categoricalvalue ║ Price  ║\n",
    "╠════════════╬═════════════════╣════════║ \n",
    "║ VW         ╬      1          ║ 20000  ║\n",
    "║ Acura      ╬      2          ║ 10011  ║\n",
    "║ Honda      ╬      3          ║ 50000  ║\n",
    "║ Honda      ╬      3          ║ 10000  ║\n",
    "╚════════════╩═════════════════╩════════╝\n",
    "\n",
    "╔════╦══════╦══════╦════════╦\n",
    "║ VW ║ Acura║ Honda║ Price  ║\n",
    "╠════╬══════╬══════╬════════╬\n",
    "║ 1  ╬ 0    ╬ 0    ║ 20000  ║\n",
    "║ 0  ╬ 1    ╬ 0    ║ 10011  ║\n",
    "║ 0  ╬ 0    ╬ 1    ║ 50000  ║\n",
    "║ 0  ╬ 0    ╬ 1    ║ 10000  ║\n",
    "╚════╩══════╩══════╩════════╝"
   ]
  },
  {
   "cell_type": "code",
   "execution_count": 19,
   "metadata": {},
   "outputs": [
    {
     "name": "stdout",
     "output_type": "stream",
     "text": [
      "Requirement already satisfied: graphviz in c:\\users\\qbnl4836\\appdata\\local\\programs\\python\\python37\\lib\\site-packages (0.11)\n",
      "Training Data:\n",
      "---------------------------------------------------------\n",
      "day  | supplies  | weather   | worked?   | went shopping?\n",
      "---------------------------------------------------------\n",
      "1    | low       | sunny     | yes       | yes       \n",
      "2    | high      | sunny     | yes       | no        \n",
      "3    | med       | cloudy    | yes       | no        \n",
      "4    | low       | raining   | yes       | no        \n",
      "5    | low       | cloudy    | no        | yes       \n",
      "6    | high      | sunny     | no        | no        \n",
      "7    | high      | raining   | no        | no        \n",
      "8    | med       | cloudy    | yes       | no        \n",
      "9    | low       | raining   | yes       | no        \n",
      "10   | low       | raining   | no        | yes       \n",
      "11   | med       | sunny     | no        | yes       \n",
      "12   | high      | sunny     | yes       | no        \n",
      "\n",
      "Predicted Random Results:\n",
      "---------------------------------------------------------\n",
      "day  | supplies  | weather   | worked?   | went shopping?\n",
      "---------------------------------------------------------\n",
      "1    | high      | sunny     | no        | no        \n",
      "2    | med       | cloudy    | yes       | no        \n",
      "3    | low       | raining   | yes       | no        \n",
      "4    | high      | raining   | no        | no        \n",
      "5    | med       | sunny     | no        | yes       \n",
      "\n"
     ]
    },
    {
     "name": "stderr",
     "output_type": "stream",
     "text": [
      "You are using pip version 19.0.3, however version 19.1.1 is available.\n",
      "You should consider upgrading via the 'python -m pip install --upgrade pip' command.\n"
     ]
    }
   ],
   "source": [
    "!py -m pip install graphviz\n",
    "import graphviz\n",
    "import itertools\n",
    "import random \n",
    "from sklearn.tree import DecisionTreeClassifier, export_graphviz\n",
    "from sklearn.preprocessing import OneHotEncoder\n",
    "\n",
    "# The possible values for each class \n",
    "classes = {\n",
    "    'supplies': ['low', 'med', 'high'],\n",
    "    'weather':  ['raining', 'cloudy', 'sunny'],\n",
    "    'worked?':  ['yes', 'no']\n",
    "}\n",
    "\n",
    "# Our example data from the documentation\n",
    "data = [\n",
    "    ['low',  'sunny',   'yes'],\n",
    "    ['high', 'sunny',   'yes'],\n",
    "    ['med',  'cloudy',  'yes'],\n",
    "    ['low',  'raining', 'yes'],\n",
    "    ['low',  'cloudy',  'no' ],\n",
    "    ['high', 'sunny',   'no' ],\n",
    "    ['high', 'raining', 'no' ],\n",
    "    ['med',  'cloudy',  'yes'],\n",
    "    ['low',  'raining', 'yes'],\n",
    "    ['low',  'raining', 'no' ],\n",
    "    ['med',  'sunny',   'no' ],\n",
    "    ['high', 'sunny',   'yes']\n",
    "]\n",
    "\n",
    "# Our target variable, whether someone went shopping\n",
    "target = ['yes', 'no', 'no', 'no', 'yes', 'no', 'no', 'no', 'no', 'yes', 'yes', 'no']\n",
    "\n",
    "# Scikit learn can't handle categorical data, so form numeric representations of the above data\n",
    "# Categorical data support may be added in the future: https://github.com/scikit-learn/scikit-learn/pull/4899\n",
    "categories = [classes['supplies'], classes['weather'], classes['worked?']]\n",
    "encoder = OneHotEncoder(categories=categories)\n",
    "\n",
    "x_data = encoder.fit_transform(data)\n",
    "\n",
    "# Form and fit our decision tree to the now-encoded data\n",
    "classifier = DecisionTreeClassifier()\n",
    "tree = classifier.fit(x_data, target)\n",
    "\n",
    "# Now that we have our decision tree, let's predict some outcomes from random data\n",
    "# This goes through each class and builds a random set of 5 data points\n",
    "prediction_data = []\n",
    "for _ in itertools.repeat(None, 5):\n",
    "    prediction_data.append([\n",
    "        random.choice(classes['supplies']),\n",
    "        random.choice(classes['weather']),\n",
    "        random.choice(classes['worked?'])\n",
    "    ])\n",
    "\n",
    "# Use our tree to predict the outcome of the random values\n",
    "prediction_results = tree.predict(encoder.transform(prediction_data))\n",
    "\n",
    "\n",
    "\n",
    "# =============================================================================\n",
    "# Output code\n",
    "\n",
    "def format_array(arr):\n",
    "    return \"\".join([\"| {:<10}\".format(item) for item in arr])\n",
    "\n",
    "def print_table(data, results):\n",
    "    line = \"day  \" + format_array(list(classes.keys()) + [\"went shopping?\"])\n",
    "    print(\"-\" * len(line))\n",
    "    print(line)\n",
    "    print(\"-\" * len(line))\n",
    "\n",
    "    for day, row in enumerate(data):\n",
    "        print(\"{:<5}\".format(day + 1) + format_array(row + [results[day]]))\n",
    "    print(\"\")\n",
    "\n",
    "feature_names = (\n",
    "    ['supplies-' + x for x in classes[\"supplies\"]] +\n",
    "    ['weather-' + x for x in classes[\"weather\"]] +\n",
    "    ['worked-' + x for x in classes[\"worked?\"]]\n",
    ")\n",
    "\n",
    "# Shows a visualization of the decision tree using graphviz\n",
    "# Note that sklearn is unable to generate non-binary trees, so these are based on individual options in each class\n",
    "#dot_data = export_graphviz(tree, filled=True, proportion=True, feature_names=feature_names) \n",
    "#graph = graphviz.Source(dot_data)\n",
    "#graph.render(filename='decision_tree', cleanup=True, view=True)\n",
    "\n",
    "# Display out training and prediction data and results\n",
    "print(\"Training Data:\")\n",
    "print_table(data, target)\n",
    "\n",
    "print(\"Predicted Random Results:\")\n",
    "print_table(prediction_data, prediction_results)"
   ]
  },
  {
   "cell_type": "markdown",
   "metadata": {},
   "source": [
    "### k-Nearest Neighbors\n",
    "\n",
    "A classifier takes an already labeled data set, and then it trys to label new data points into one of the catagories.\n",
    "To do this we look at the closest points (neighbors) to the object and the class with the majority of neighbors will be the class that we identify the object to be in.\n",
    "\n",
    "Brute Force Method : Euclidean distance\n",
    "\n",
    "K-D Tree Method : The idea behind this method is that if we know that two data points are close to each other and we calculate the Euclidean distance to one of them and then we know that distance is roughly close to the other point. How a K-D tree works is that a node in the tree represents and holds data from an n-dimensional graph. => calculate the Euclidean distance between only the points it is close to until we reach k neighbors.\n"
   ]
  },
  {
   "cell_type": "code",
   "execution_count": 22,
   "metadata": {},
   "outputs": [
    {
     "data": {
      "image/png": "[encoded data removed]",
      "text/plain": [
       "<Figure size 432x288 with 1 Axes>"
      ]
     },
     "metadata": {},
     "output_type": "display_data"
    }
   ],
   "source": [
    "# All the libraries we need for KNN\n",
    "import numpy as np\n",
    "import matplotlib.pyplot as plt\n",
    "\n",
    "from sklearn.neighbors import KNeighborsClassifier\n",
    "# This is used for our dataset\n",
    "from sklearn.datasets import load_breast_cancer\n",
    "\n",
    "\n",
    "# =============================================================================\n",
    "# We are using sklearn datasets to create the set of data points about breast cancer\n",
    "# Data is the set data points\n",
    "# target is the classification of those data points. \n",
    "# More information can be found at:\n",
    "#https://scikit-learn.org/stable/modules/generated/sklearn.datasets.load_breast_cancer.html#sklearn.datasets.load_breast_cancer\n",
    "# =============================================================================\n",
    "dataCancer = load_breast_cancer()\n",
    "\n",
    "# The data[:, x:n] gets two features for the data given. \n",
    "# The : part gets all the rows in the matrix. And 0:2 gets the first 2 columns \n",
    "# If you want to get a different two features you can replace 0:2 with 1:3, 2:4,... 28:30, \n",
    "# there are 30 features in the set so it can only go up to 30.\n",
    "# If we wanted to plot a 3 dimensional plot then the difference between x and n needs to be 3 instead of two\n",
    "data = dataCancer.data[:, 0:2]\n",
    "target = dataCancer.target\n",
    "\n",
    "\n",
    "# =============================================================================\n",
    "# This creates the KNN classifier and specifies the algorithm being used and the k\n",
    "# nearest neighbors used for the algorithm. more information can about KNeighborsClassifier\n",
    "# can be found at: https://scikit-learn.org/stable/modules/generated/sklearn.neighbors.KNeighborsClassifier.html\n",
    "#\n",
    "# Then it trains the model using the breast cancer dataset. \n",
    "# =============================================================================\n",
    "model = KNeighborsClassifier(n_neighbors = 9, algorithm = 'auto')\n",
    "model.fit(data, target)\n",
    "\n",
    "\n",
    "# plots the points \n",
    "plt.scatter(data[:, 0], data[:, 1], c=target, s=30, cmap=plt.cm.prism)\n",
    "\n",
    "# Creates the axis bounds for the grid\n",
    "axis = plt.gca()\n",
    "x_limit = axis.get_xlim()\n",
    "y_limit = axis.get_ylim()\n",
    "\n",
    "# Creates a grid to evaluate model\n",
    "x = np.linspace(x_limit[0], x_limit[1])\n",
    "y = np.linspace(y_limit[0], y_limit[1])\n",
    "X, Y = np.meshgrid(x, y)\n",
    "xy = np.c_[X.ravel(), Y.ravel()]\n",
    "\n",
    "# Creates the line that will separate the data\n",
    "boundary = model.predict(xy)\n",
    "boundary = boundary.reshape(X.shape)\n",
    "\n",
    "\n",
    "# Plot the decision boundary\n",
    "axis.contour(X, Y,  boundary, colors = 'k')\n",
    "\n",
    "# Shows the graph\n",
    "plt.show()\n"
   ]
  },
  {
   "cell_type": "markdown",
   "metadata": {},
   "source": [
    "### Naive Bayes Classification\n",
    "\n",
    "\n",
    "Naive Bayes is a classification technique that uses probabilities we already know to determine how to classify input. These probabilities are related to existing classes and what features they have. \n",
    "\n",
    "Bayes’ Theorem => conditional probabilities (the probability of an event happening given another event has happened)\n",
    "\n",
    "naive => The main thing we will assume is that features are independent. Assuming independence means that the probability of a set of features occurring given a certain class is the same as the product of all the probabilities of each individual feature occurring given that class.           \n"
   ]
  },
  {
   "cell_type": "markdown",
   "metadata": {},
   "source": [
    "Gaussian Model (Continuous) : Gaussian models assume features follow a normal distribution"
   ]
  },
  {
   "cell_type": "code",
   "execution_count": 24,
   "metadata": {},
   "outputs": [
    {
     "name": "stdout",
     "output_type": "stream",
     "text": [
      "Our data set represents RGB triples and their associated colors.\n",
      "\n",
      "We have trained a Gaussian model on our data set.\n",
      "\n",
      "Let's consider a new input with 100% red, 0% green, and 100% blue.\n",
      "\n",
      "What color does our model think this should be?\n",
      "Answer: Purple!\n"
     ]
    }
   ],
   "source": [
    "import numpy as np\n",
    "from sklearn.naive_bayes import GaussianNB\n",
    "\n",
    "# The features in X are broken down as follows:\n",
    "# [Red %, Green %, Blue %]\n",
    "\n",
    "# Some data is created to train with\n",
    "X = np.array([[.5, 0, .5], [1, 1, 0], [0, 0, 0]])\n",
    "# These are our target values (Classes: Purple, Yellow, or Black)\n",
    "y = np.array(['Purple', 'Yellow', 'Black'])\n",
    "\n",
    "# This is the code we need for the Gaussian model\n",
    "clf = GaussianNB()\n",
    "# We train the model on our data\n",
    "clf.fit(X, y)\n",
    "\n",
    "# Now we can make a prediction on what class new data belongs to\n",
    "print(\"Our data set represents RGB triples and their associated colors.\\n\")\n",
    "print(\"We have trained a Gaussian model on our data set.\\n\")\n",
    "print(\"Let's consider a new input with 100% red, 0% green, and 100% blue.\\n\")\n",
    "print(\"What color does our model think this should be?\")\n",
    "print(\"Answer: %s!\" % clf.predict([[1, 0, 1]])[0])"
   ]
  },
  {
   "cell_type": "markdown",
   "metadata": {},
   "source": [
    "Multinomial Model (Discrete) : Multinomial models are used when we are working with discrete counts. Specifically, we want to use them when we are counting how often a feature occurs.\n"
   ]
  },
  {
   "cell_type": "code",
   "execution_count": 25,
   "metadata": {},
   "outputs": [
    {
     "name": "stdout",
     "output_type": "stream",
     "text": [
      "Our data set represents fruits and their characteristics.\n",
      "\n",
      "We have trained a Multinomial model on our data set.\n",
      "\n",
      "Let's consider a new input that is moderately sized, heavy, and red.\n",
      "\n",
      "What fruit does our model think this should be?\n",
      "Answer: Apple!\n"
     ]
    }
   ],
   "source": [
    "import numpy as np\n",
    "from sklearn.naive_bayes import MultinomialNB\n",
    "\n",
    "# The features in X are broken down as follows:\n",
    "# [Size, Weight, Color]\n",
    "#\n",
    "# Size: 0 = Small, 1 = Moderate, 2 = Large\n",
    "# Weight: 0 = Light, 1 = Moderate, 2 = Heavy\n",
    "# Color: 0 = Red, 1 = Blue, 2 = Brown\n",
    "\n",
    "# Some data is created to train with\n",
    "X = np.array([[1, 1, 0], [0, 0, 1], [2, 2, 2]])\n",
    "# These are our target values (Classes: Apple, Blueberry, or Coconut)\n",
    "y = np.array(['Apple', 'Blueberry', 'Coconut'])\n",
    "\n",
    "# This is the code we need for the Multinomial model\n",
    "clf = MultinomialNB()\n",
    "# We train the model on our data\n",
    "clf.fit(X, y)\n",
    "\n",
    "# Now we can make a prediction on what class new data belongs to\n",
    "print(\"Our data set represents fruits and their characteristics.\\n\")\n",
    "print(\"We have trained a Multinomial model on our data set.\\n\")\n",
    "print(\"Let's consider a new input that is moderately sized, heavy, and red.\\n\")\n",
    "print(\"What fruit does our model think this should be?\")\n",
    "print(\"Answer: %s!\" % clf.predict([[1, 2, 0]])[0])"
   ]
  },
  {
   "cell_type": "raw",
   "metadata": {},
   "source": [
    "# Bernoulli Model (Discrete) : Unlike the multinomial case, here we are counting whether or not a feature occurred."
   ]
  },
  {
   "cell_type": "code",
   "execution_count": 27,
   "metadata": {},
   "outputs": [
    {
     "name": "stdout",
     "output_type": "stream",
     "text": [
      "Our data set represents things that are and aren't ducks.\n",
      "\n",
      "We have trained a Bernoulli model on our data set.\n",
      "\n",
      "Let's consider a new input that:\n",
      "   Walks like a duck\n",
      "   Talks like a duck\n",
      "   Is large\n",
      "\n",
      "What does our model think this should be?\n",
      "Answer: Duck!\n"
     ]
    }
   ],
   "source": [
    "import numpy as np\n",
    "from sklearn.naive_bayes import BernoulliNB\n",
    "\n",
    "# The features in X are broken down as follows:\n",
    "# [Walks like a duck, Talks like a duck, Is small]\n",
    "#\n",
    "# Walks like a duck: 0 = False, 1 = True\n",
    "# Talks like a duck: 0 = False, 1 = True\n",
    "# Is small: 0 = False, 1 = True\n",
    "\n",
    "# Some data is created to train with\n",
    "X = np.array([[1, 1, 0], [0, 0, 1], [1, 0, 0]])\n",
    "# These are our target values (Classes: Duck or Not a duck)\n",
    "y = np.array(['Duck', 'Not a Duck', 'Not a Duck'])\n",
    "\n",
    "# This is the code we need for the Bernoulli model\n",
    "clf = BernoulliNB()\n",
    "# We train the model on our data\n",
    "clf.fit(X, y)\n",
    "\n",
    "# Now we can make a prediction on what class new data belongs to\n",
    "print(\"Our data set represents things that are and aren't ducks.\\n\")\n",
    "print(\"We have trained a Bernoulli model on our data set.\\n\")\n",
    "print((\"Let's consider a new input that:\\n\"\n",
    "       \"   Walks like a duck\\n\"\n",
    "       \"   Talks like a duck\\n\"\n",
    "       \"   Is large\\n\"))\n",
    "print(\"What does our model think this should be?\")\n",
    "print(\"Answer: %s!\" % clf.predict([[1, 1, 1]])[0])"
   ]
  },
  {
   "cell_type": "markdown",
   "metadata": {},
   "source": [
    "### Logistic Regression\n",
    "\n",
    "Logistic regression is a method for binary classification. It works to divide points in a dataset into two distinct classes, or categories. For simplicity, let's call them class A and class B. The model will give us the probability that a given point belongs in category B. If it is low (lower than 50%), then we classify it in category A. Otherwise, it falls in class B. Logistic regression will instead create a sort of S-curve (using the sigmoid function) which will also help show certainty, since the output from logistic regression is not just a one or zero. "
   ]
  },
  {
   "cell_type": "markdown",
   "metadata": {},
   "source": [
    "Logistic regression works using a linear combination of inputs, so multiple information sources can govern the output of the model. The parameters of the model are the weights of the various features, and represent their relative importance to the result. Logistic regression is, at its base, a transformation from a linear predictor to a probability between 0 and 1.\n",
    "\n",
    "Multinomial Logistic Regression : where the output can be any digit from 0 to 9"
   ]
  },
  {
   "cell_type": "markdown",
   "metadata": {},
   "source": [
    "![img](img/image6.png)"
   ]
  },
  {
   "cell_type": "code",
   "execution_count": 28,
   "metadata": {},
   "outputs": [
    {
     "name": "stdout",
     "output_type": "stream",
     "text": [
      "[899]: Class 1, probability [0.04191179 0.95808821]\n",
      "[855]: Class 1, probability [0.07778047 0.92221953]\n",
      "[895]: Class 1, probability [0.04437485 0.95562515]\n",
      "[986]: Class 1, probability [0.01180435 0.98819565]\n",
      "[379]: Class 0, probability [0.99033016 0.00966984]\n",
      "[781]: Class 1, probability [0.20281168 0.79718832]\n",
      "[42]: Class 0, probability [9.99936032e-01 6.39678858e-05]\n",
      "[881]: Class 1, probability [0.05412507 0.94587493]\n",
      "[108]: Class 0, probability [9.99828772e-01 1.71227617e-04]\n",
      "[283]: Class 0, probability [0.99767416 0.00232584]\n",
      "[108]: Class 0, probability [9.99828772e-01 1.71227617e-04]\n",
      "[389]: Class 0, probability [0.98879167 0.01120833]\n",
      "[209]: Class 0, probability [9.99227747e-01 7.72253021e-04]\n",
      "[504]: Class 0, probability [0.94070064 0.05929936]\n",
      "[5]: Class 0, probability [9.99963168e-01 3.68320499e-05]\n",
      "[809]: Class 1, probability [0.1434934 0.8565066]\n",
      "[324]: Class 0, probability [0.99572048 0.00427952]\n",
      "[670]: Class 0, probability [0.57133665 0.42866335]\n",
      "[452]: Class 0, probability [0.97180105 0.02819895]\n",
      "[14]: Class 0, probability [9.99957875e-01 4.21250710e-05]\n",
      "[580]: Class 0, probability [0.83618423 0.16381577]\n",
      "[475]: Class 0, probability [0.96071014 0.03928986]\n",
      "[656]: Class 0, probability [0.62156277 0.37843723]\n",
      "[893]: Class 1, probability [0.04565758 0.95434242]\n",
      "[163]: Class 0, probability [9.99611079e-01 3.88920866e-04]\n",
      "[886]: Class 1, probability [0.05043049 0.94956951]\n",
      "[336]: Class 0, probability [0.99488569 0.00511431]\n",
      "[718]: Class 1, probability [0.39440022 0.60559978]\n",
      "[288]: Class 0, probability [0.99749447 0.00250553]\n",
      "[199]: Class 0, probability [9.99334712e-01 6.65287519e-04]\n",
      "[806]: Class 1, probability [0.1490828 0.8509172]\n",
      "[966]: Class 1, probability [0.0158437 0.9841563]\n",
      "[363]: Class 0, probability [0.99236802 0.00763198]\n",
      "[571]: Class 0, probability [0.85375819 0.14624181]\n",
      "[372]: Class 0, probability [0.99128076 0.00871924]\n",
      "[623]: Class 0, probability [0.72880076 0.27119924]\n",
      "[810]: Class 1, probability [0.14166942 0.85833058]\n",
      "[760]: Class 1, probability [0.25817167 0.74182833]\n",
      "[763]: Class 1, probability [0.24969248 0.75030752]\n",
      "[760]: Class 1, probability [0.25817167 0.74182833]\n",
      "[853]: Class 1, probability [0.07994806 0.92005194]\n",
      "[609]: Class 0, probability [0.76806667 0.23193333]\n",
      "[487]: Class 0, probability [0.95336588 0.04663412]\n",
      "[482]: Class 0, probability [0.95657261 0.04342739]\n",
      "[521]: Class 0, probability [0.92486675 0.07513325]\n",
      "[898]: Class 1, probability [0.04251501 0.95748499]\n",
      "[119]: Class 0, probability [9.99798239e-01 2.01760873e-04]\n",
      "[748]: Class 1, probability [0.29391332 0.70608668]\n",
      "[262]: Class 0, probability [0.99829871 0.00170129]\n",
      "[299]: Class 0, probability [0.99704891 0.00295109]\n",
      "[92]: Class 0, probability [9.99865130e-01 1.34869839e-04]\n",
      "[117]: Class 0, probability [9.99804170e-01 1.95830431e-04]\n",
      "[454]: Class 0, probability [0.9709717 0.0290283]\n",
      "[892]: Class 1, probability [0.04631212 0.95368788]\n",
      "[907]: Class 1, probability [0.03737245 0.96262755]\n",
      "[122]: Class 0, probability [9.99789005e-01 2.10994899e-04]\n",
      "[916]: Class 1, probability [0.0328306 0.9671694]\n",
      "[682]: Class 0, probability [0.52704028 0.47295972]\n",
      "[679]: Class 0, probability [0.5381822 0.4618178]\n",
      "[485]: Class 0, probability [0.95467475 0.04532525]\n",
      "[89]: Class 0, probability [9.99871033e-01 1.28966937e-04]\n",
      "[603]: Class 0, probability [0.78362992 0.21637008]\n",
      "[16]: Class 0, probability [9.99956599e-01 4.34009702e-05]\n",
      "[881]: Class 1, probability [0.05412507 0.94587493]\n",
      "[740]: Class 1, probability [0.31927771 0.68072229]\n",
      "[685]: Class 0, probability [0.51587135 0.48412865]\n",
      "[494]: Class 0, probability [0.9484964 0.0515036]\n",
      "[576]: Class 0, probability [0.84419608 0.15580392]\n",
      "[176]: Class 0, probability [9.99527871e-01 4.72129174e-04]\n",
      "[188]: Class 0, probability [9.99435353e-01 5.64646591e-04]\n",
      "[455]: Class 0, probability [0.97054821 0.02945179]\n",
      "[766]: Class 1, probability [0.24140114 0.75859886]\n",
      "[641]: Class 0, probability [0.67260408 0.32739592]\n",
      "[963]: Class 1, probability [0.01655697 0.98344303]\n",
      "[238]: Class 0, probability [0.99881016 0.00118984]\n",
      "[758]: Class 1, probability [0.26392771 0.73607229]\n",
      "[163]: Class 0, probability [9.99611079e-01 3.88920866e-04]\n",
      "[851]: Class 1, probability [0.08217068 0.91782932]\n",
      "[559]: Class 0, probability [0.8747281 0.1252719]\n",
      "[838]: Class 1, probability [0.09803484 0.90196516]\n",
      "[150]: Class 0, probability [9.99679627e-01 3.20372536e-04]\n",
      "[130]: Class 0, probability [9.99762262e-01 2.37737517e-04]\n",
      "[787]: Class 1, probability [0.18872242 0.81127758]\n",
      "[570]: Class 0, probability [0.85561121 0.14438879]\n",
      "[993]: Class 1, probability [0.01064616 0.98935384]\n",
      "[414]: Class 0, probability [0.98380661 0.01619339]\n",
      "[324]: Class 0, probability [0.99572048 0.00427952]\n",
      "[482]: Class 0, probability [0.95657261 0.04342739]\n",
      "[342]: Class 0, probability [0.99440942 0.00559058]\n",
      "[152]: Class 0, probability [9.99669927e-01 3.30073311e-04]\n",
      "[637]: Class 0, probability [0.68560827 0.31439173]\n",
      "[654]: Class 0, probability [0.62855592 0.37144408]\n",
      "[468]: Class 0, probability [0.96446811 0.03553189]\n",
      "[968]: Class 1, probability [0.01538508 0.98461492]\n",
      "[653]: Class 0, probability [0.63203261 0.36796739]\n",
      "[931]: Class 1, probability [0.02642118 0.97357882]\n",
      "[998]: Class 1, probability [0.00988843 0.99011157]\n",
      "[416]: Class 0, probability [0.9833243 0.0166757]\n",
      "[5]: Class 0, probability [9.99963168e-01 3.68320499e-05]\n",
      "[775]: Class 1, probability [0.21767058 0.78232942]\n",
      "\n",
      "100 out of 100 correct.\n"
     ]
    }
   ],
   "source": [
    "from sklearn.linear_model import LogisticRegression\n",
    "import numpy as np\n",
    "import random\n",
    "\n",
    "#defines the classification for the training data.\n",
    "def true_classifier(i):\n",
    "    if i >= 700:\n",
    "        return 1\n",
    "    return 0\n",
    "\n",
    "#Generate a random dataset which includes random scores from 0 to 1000.\n",
    "x = np.array([ random.randint(0,1000) for i in range(0,1000) ])\n",
    "\n",
    "#The model will expect a 2D array, so we must reshape\n",
    "#For the model, the 2D array must have rows equal to the number of samples,\n",
    "#and columns equal to the number of features.\n",
    "#For this example, we have 1000 samples and 1 feature.\n",
    "x = x.reshape((-1, 1))\n",
    "\n",
    "#For each point, y is a pass/fail for the grade. The simple threshold is arbitrary,\n",
    "#and can be changed as you would like. Classes are 1 for success and 0 for failure\n",
    "y = [ true_classifier(x[i][0]) for i in range(0,1000) ]\n",
    "\n",
    "\n",
    "#Again, we need a numpy array, so we convert.\n",
    "y = np.array(y)\n",
    "\n",
    "#Our goal will be to train a logistic regression model to do pass/fail to the same threshold.\n",
    "model = LogisticRegression(solver='liblinear')\n",
    "\n",
    "#The fit method actually fits the model to our training data\n",
    "model = model.fit(x,y)\n",
    "\n",
    "#Create 100 random samples to try against our model as test data\n",
    "samples = [random.randint(0,1000) for i in range(0,100)]\n",
    "#Once again, we need a 2d Numpy array\n",
    "samples = np.array(samples)\n",
    "samples = samples.reshape(-1, 1)\n",
    "\n",
    "#Now we use our model against the samples.  output is the probability, and _class is the class.\n",
    "_class = model.predict(samples)\n",
    "proba = model.predict_proba(samples)\n",
    "\n",
    "num_accurate = 0\n",
    "\n",
    "#Finally, output the results, formatted for nicer viewing.\n",
    "#The format is [<sample value>]: Class <class number>, probability [ <probability for class 0> <probability for class 1>]\n",
    "#So, the probability array is the probability of failure, followed by the probability of passing.\n",
    "#In an example run, [7]: Class 0, probability [  9.99966694e-01   3.33062825e-05]\n",
    "#Means that for value 7, the class is 0 (failure) and the probability of failure is 99.9%\n",
    "for i in range(0,100):\n",
    "    if (true_classifier(samples[i])) == (_class[i] == 1):\n",
    "        num_accurate = num_accurate + 1\n",
    "    print(\"\" + str(samples[i]) + \": Class \" + str(_class[i]) + \", probability \" + str(proba[i]))\n",
    "#skip a line to separate overall result from sample output\n",
    "print(\"\")\n",
    "print(str(num_accurate) +\" out of 100 correct.\")"
   ]
  },
  {
   "cell_type": "markdown",
   "metadata": {},
   "source": [
    "### Linear Support Vector Machines\n",
    "\n",
    "The point of SVM's are to try and find a line or hyperplane to divide a dimensional space which best classifies the data points. If we were trying to divide two classes A and B, we would try to best separate the two classes with a line. On one side of the line/hyperplane would be data from class A and on the other side would be from class B.\n",
    "\n",
    "The algorithm chooses the line/hyperplane with the maximum margin. Maximizing the margin will give us the optimal line to classify the data. \n",
    "The data that is closest to the line is what determines the optimal line. These data points are called support vectors. The distance from these vectors to the hyperplane is called the margin.\n",
    "\n",
    "![img](img/image7.png)\n",
    "\n",
    "non-linearly separable data = kernel trick. Basically, the kernel trick takes the points to a higher dimension to turn non-linearly separable data to linear separable data."
   ]
  },
  {
   "cell_type": "code",
   "execution_count": 29,
   "metadata": {},
   "outputs": [
    {
     "data": {
      "image/png": "[encoded data removed]",
      "text/plain": [
       "<Figure size 432x288 with 1 Axes>"
      ]
     },
     "metadata": {},
     "output_type": "display_data"
    }
   ],
   "source": [
    "# All the libraries we need for linear SVM\n",
    "import numpy as np\n",
    "import matplotlib.pyplot as plt\n",
    "from sklearn import svm\n",
    "# This is used for our dataset\n",
    "from sklearn.datasets import load_breast_cancer\n",
    "\n",
    "\n",
    "# =============================================================================\n",
    "# We are using sklearn datasets to create the set of data points about breast cancer\n",
    "# Data is the set data points\n",
    "# target is the classification of those data points. \n",
    "# More information can be found athttps://scikit-learn.org/stable/modules/generated/sklearn.datasets.load_breast_cancer.html#sklearn.datasets.load_breast_cancer\n",
    "# =============================================================================\n",
    "dataCancer = load_breast_cancer()\n",
    "\n",
    "# The data[:, x:n] gets two features for the data given. \n",
    "# The : part gets all the rows in the matrix. And 0:2 gets the first 2 columns \n",
    "# If you want to get a different two features you can replace 0:2 with 1:3, 2:4,... 28:30, \n",
    "# there are 30 features in the set so it can only go up to 30.\n",
    "# If we wanted to plot a 3 dimensional plot then the difference between x and n needs to be 3 instead of two\n",
    "data = dataCancer.data[:, 0:2]\n",
    "target = dataCancer.target\n",
    "\n",
    "# =============================================================================\n",
    "# Creates the linear svm model and fits it to our data points\n",
    "# The optional parameter will be default other than these two,\n",
    "# You can find the other parameters at https://scikit-learn.org/stable/modules/generated/sklearn.svm.SVC.html\n",
    "# =============================================================================\n",
    "model = svm.SVC(kernel = 'linear', C = 10000)\n",
    "model.fit(data, target)\n",
    "\n",
    "\n",
    "# plots the points \n",
    "plt.scatter(data[:, 0], data[:, 1], c=target, s=30, cmap=plt.cm.prism)\n",
    "\n",
    "# Creates the axis bounds for the grid\n",
    "axis = plt.gca()\n",
    "x_limit = axis.get_xlim()\n",
    "y_limit = axis.get_ylim()\n",
    "\n",
    "# Creates a grid to evaluate model\n",
    "x = np.linspace(x_limit[0], x_limit[1], 50)\n",
    "y = np.linspace(y_limit[0], y_limit[1], 50)\n",
    "X, Y = np.meshgrid(x, y)\n",
    "xy = np.c_[X.ravel(), Y.ravel()]\n",
    "\n",
    "# Creates the decision line for the data points, use model.predict if you are classifying more than two \n",
    "decision_line = model.decision_function(xy).reshape(Y.shape)\n",
    "\n",
    "\n",
    "# Plot the decision line and the margins\n",
    "axis.contour(X, Y,  decision_line, colors = 'k',  levels=[0], \n",
    "           linestyles=['-'])\n",
    "# Shows the support vectors that determine the desision line\n",
    "axis.scatter(model.support_vectors_[:, 0], model.support_vectors_[:, 1], s=100,\n",
    "           linewidth=1, facecolors='none', edgecolors='k')\n",
    "\n",
    "# Shows the graph\n",
    "plt.show()\n",
    "\n"
   ]
  },
  {
   "cell_type": "code",
   "execution_count": null,
   "metadata": {},
   "outputs": [],
   "source": []
  }
 ],
 "metadata": {
  "kernelspec": {
   "display_name": "Python 3",
   "language": "python",
   "name": "python3"
  },
  "language_info": {
   "codemirror_mode": {
    "name": "ipython",
    "version": 3
   },
   "file_extension": ".py",
   "mimetype": "text/x-python",
   "name": "python",
   "nbconvert_exporter": "python",
   "pygments_lexer": "ipython3",
   "version": "3.7.3"
  }
 },
 "nbformat": 4,
 "nbformat_minor": 2
}
